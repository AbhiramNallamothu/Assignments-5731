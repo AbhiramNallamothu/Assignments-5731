{
  "cells": [
    {
      "cell_type": "markdown",
      "metadata": {
        "id": "view-in-github",
        "colab_type": "text"
      },
      "source": [
        "<a href=\"https://colab.research.google.com/github/AbhiramNallamothu/Assignments-5731/blob/main/Abhiram_Nallamothu_Exercise_2.ipynb\" target=\"_parent\"><img src=\"https://colab.research.google.com/assets/colab-badge.svg\" alt=\"Open In Colab\"/></a>"
      ]
    },
    {
      "cell_type": "markdown",
      "metadata": {
        "id": "DymRJbxDBCnf"
      },
      "source": [
        "# **INFO5731 In-class Exercise 2**\n",
        "\n",
        "The purpose of this exercise is to understand users' information needs, and then collect data from different sources for analysis by implementing web scraping using Python.\n",
        "\n",
        "**Expectations**:\n",
        "*   Students are expected to complete the exercise during lecture period to meet the active participation criteria of the course.\n",
        "*   Use the provided .*ipynb* document to write your code & respond to the questions. Avoid generating a new file.\n",
        "*   Write complete answers and run all the cells before submission.\n",
        "*   Make sure the submission is \"clean\"; *i.e.*, no unnecessary code cells.\n",
        "*   Once finished, allow shared rights from top right corner (*see Canvas for details*).\n",
        "\n",
        "**Total points**: 40\n",
        "\n",
        "**Deadline**: This in-class exercise is due at the end of the day tomorrow, at 11:59 PM.\n",
        "\n",
        "**Late submissions will have a penalty of 10% of the marks for each day of late submission. , and no requests will be answered. Manage your time accordingly.**\n"
      ]
    },
    {
      "cell_type": "markdown",
      "source": [
        "## Question 1 (10 Points)\n",
        "Describe an interesting research question (or practical question or something innovative) you have in mind, what kind of data should be collected to answer the question(s)? Specify the amount of data needed for analysis. Provide detailed steps for collecting and saving the data."
      ],
      "metadata": {
        "id": "FBKvD6O_TY6e"
      }
    },
    {
      "cell_type": "code",
      "source": [
        "# write your answer here\n",
        "Building a dataset with relevant information is essential to examine how age affects purchasing patterns. The required information is outlined in the stages below:\n",
        "\n",
        "Demographic Details:\n",
        "1.\tAge: Span a wide range of age groups.\n",
        "2.\tGender: Take into consideration gender to adjust for possible differences in expenditure.\n",
        "3.\tLocation: Spending habits can be influenced by urban, suburban, or rural environments.\n",
        "Employment and Income:\n",
        "1.\tA yearly or monthly income.\n",
        "2.\tWork status encompasses those who are employed, jobless, or retired.\n",
        "Expense Management: -\n",
        "1.\tDivide expenditures into categories, such as grocery, entertainment, and travel.\n",
        "2.\tKeep track of the amount spent on each category of expenses.\n",
        "Debt and Savings: -\n",
        "1.\tList all of your debt, including loans and credit card balances.\n",
        "2.\tRecord information on investments and savings.\n",
        "\n",
        "Technology Usage:\n",
        "1.\tExamine your online buying patterns.\n",
        "2.\tAnalyze how digital payment methods are being used.\n",
        "Interests and Lifestyle:\n",
        "1.\tInterests and hobbies.\n",
        "2.\tIf they have any dependents, such as kids or aging family members.\n",
        "Buying Preferences:\n",
        "1.\tPreferences for in-store versus online buying.\n",
        "2.\tSuggested ways to pay.\n",
        "Make sure your sample is representative of the various age groups and is varied. For analysis, a dataset with at least 1000 samples is a decent place to start.\n",
        "\n",
        "\n",
        "Procedures for Gathering and Preserving Data:\n",
        "Design of the Survey: Make a well-organized survey with precise questions according to the stated data elements.\n",
        "Data collection: Use a variety of distribution methods to distribute the survey (online platforms, in-person interviews, etc.). Make sure participants' privacy and consent are respected.\n",
        "Data Purification:\n",
        "1.\tEliminate any answers that are inconsistent or incomplete.\n",
        "2.\tRespond properly to missing data and outliers.\n",
        "Data Storage:\n",
        "1.\tStore the information in a database, CSV file, or other organized format.\n",
        "2.\tA codebook outlining each variable should be included.\n",
        "Assure Compliance and Privacy:\n",
        "1.\tRespect data privacy laws and guarantee participants' confidentiality.\n",
        "To find trends and connections between age and spending patterns, we can use statistical analysis or machine learning approaches.\n"
      ],
      "metadata": {
        "id": "cikVKDXdTbzE"
      },
      "execution_count": null,
      "outputs": []
    },
    {
      "cell_type": "markdown",
      "source": [
        "## Question 2 (10 Points)\n",
        "Write Python code to collect a dataset of 1000 samples related to the question discussed in Question 1."
      ],
      "metadata": {
        "id": "E9RqrlwdTfvl"
      }
    },
    {
      "cell_type": "code",
      "source": [
        "# write your answer here\n",
        "import pandas as pd\n",
        "import numpy as np\n",
        "\n",
        "# Set a seed for reproducibility\n",
        "np.random.seed(42)\n",
        "\n",
        "# Generate synthetic data\n",
        "data = {\n",
        "    'Age': np.random.randint(18, 80, 1000),\n",
        "    'Gender': np.random.choice(['Male', 'Female'], 1000),\n",
        "    'Location': np.random.choice(['Urban', 'Suburban', 'Rural'], 1000),\n",
        "    'Income': np.random.randint(20000, 120000, 1000),\n",
        "    'Employment_Status': np.random.choice(['Employed', 'Unemployed', 'Retired'], 1000),\n",
        "    'Groceries_Spending': np.random.randint(10, 200, 1000),\n",
        "    'Entertainment_Spending': np.random.randint(5, 150, 1000),\n",
        "    'Travel_Spending': np.random.randint(20, 500, 1000),\n",
        "    'Debt_Amount': np.random.randint(0, 5000, 1000),\n",
        "    'Savings_Amount': np.random.randint(0, 50000, 1000),\n",
        "    'Online_Shopping_Habits': np.random.choice(['Yes', 'No'], 1000),\n",
        "    'Digital_Payment_Usage': np.random.choice(['Yes', 'No'], 1000),\n",
        "    'Hobbies_Interests': np.random.choice(['Reading', 'Sports', 'Travel', 'Cooking'], 1000),\n",
        "    'Has_Dependents': np.random.choice(['Yes', 'No'], 1000),\n",
        "    'Shopping_Preference': np.random.choice(['In-store', 'Online'], 1000),\n",
        "    'Preferred_Payment_Method': np.random.choice(['Credit Card', 'Debit Card', 'Cash'], 1000)\n",
        "}\n",
        "\n",
        "# Create a DataFrame\n",
        "df = pd.DataFrame(data)\n",
        "\n",
        "# Save the dataset to CSV\n",
        "df.to_csv('spending_habits_dataset.csv', index=False)\n",
        "\n",
        "# Display the first few rows of the dataset\n",
        "print(df)\n",
        "\n",
        "\n",
        "\n",
        "\n",
        "\n"
      ],
      "metadata": {
        "id": "4XvRknixTh1g",
        "colab": {
          "base_uri": "https://localhost:8080/"
        },
        "outputId": "ee88865a-58e1-4bae-8824-dc258893e814"
      },
      "execution_count": 5,
      "outputs": [
        {
          "output_type": "stream",
          "name": "stdout",
          "text": [
            "     Age  Gender  Location  Income Employment_Status  Groceries_Spending  \\\n",
            "0     56    Male     Rural   25656          Employed                  87   \n",
            "1     69    Male     Urban   94520           Retired                  67   \n",
            "2     46  Female     Rural   83740        Unemployed                  42   \n",
            "3     32    Male     Urban   84309           Retired                  23   \n",
            "4     60    Male     Rural   49984           Retired                 171   \n",
            "..   ...     ...       ...     ...               ...                 ...   \n",
            "995   18    Male     Rural   55634        Unemployed                 196   \n",
            "996   35  Female  Suburban   64602          Employed                  22   \n",
            "997   49  Female  Suburban   69334           Retired                 176   \n",
            "998   64    Male  Suburban   88648           Retired                 165   \n",
            "999   66  Female  Suburban   42054           Retired                 198   \n",
            "\n",
            "     Entertainment_Spending  Travel_Spending  Debt_Amount  Savings_Amount  \\\n",
            "0                        20              295         2779           14485   \n",
            "1                       123               98         4920           15605   \n",
            "2                         6              165          755           37637   \n",
            "3                       149              130         1995           20390   \n",
            "4                        34              277         1321            9867   \n",
            "..                      ...              ...          ...             ...   \n",
            "995                     103              491         1095           15210   \n",
            "996                     125              308         1782           49510   \n",
            "997                      56              462         4541           36545   \n",
            "998                      73               37         3257           38674   \n",
            "999                       9              459         1997           34489   \n",
            "\n",
            "    Online_Shopping_Habits Digital_Payment_Usage Hobbies_Interests  \\\n",
            "0                       No                   Yes           Reading   \n",
            "1                      Yes                   Yes            Sports   \n",
            "2                      Yes                   Yes            Travel   \n",
            "3                      Yes                    No            Sports   \n",
            "4                      Yes                   Yes           Cooking   \n",
            "..                     ...                   ...               ...   \n",
            "995                    Yes                    No            Sports   \n",
            "996                    Yes                   Yes            Travel   \n",
            "997                     No                   Yes           Cooking   \n",
            "998                    Yes                   Yes            Travel   \n",
            "999                     No                   Yes           Reading   \n",
            "\n",
            "    Has_Dependents Shopping_Preference Preferred_Payment_Method  \n",
            "0              Yes              Online               Debit Card  \n",
            "1               No            In-store              Credit Card  \n",
            "2               No              Online               Debit Card  \n",
            "3               No              Online               Debit Card  \n",
            "4               No              Online               Debit Card  \n",
            "..             ...                 ...                      ...  \n",
            "995             No            In-store               Debit Card  \n",
            "996             No              Online               Debit Card  \n",
            "997             No              Online               Debit Card  \n",
            "998            Yes            In-store              Credit Card  \n",
            "999             No              Online              Credit Card  \n",
            "\n",
            "[1000 rows x 16 columns]\n"
          ]
        }
      ]
    },
    {
      "cell_type": "markdown",
      "metadata": {
        "id": "03jb4GZsBkBS"
      },
      "source": [
        "## Question 3 (10 Points)\n",
        "Write Python code to collect 1000 articles from Google Scholar (https://scholar.google.com/), Microsoft Academic (https://academic.microsoft.com/home), or CiteSeerX (https://citeseerx.ist.psu.edu/index), or Semantic Scholar (https://www.semanticscholar.org/), or ACM Digital Libraries (https://dl.acm.org/) with the keyword \"XYZ\". The articles should be published in the last 10 years (2014-2024).\n",
        "\n",
        "The following information from the article needs to be collected:\n",
        "\n",
        "(1) Title of the article\n",
        "\n",
        "(2) Venue/journal/conference being published\n",
        "\n",
        "(3) Year\n",
        "\n",
        "(4) Authors\n",
        "\n",
        "(5) Abstract"
      ]
    },
    {
      "cell_type": "code",
      "source": [
        "!# write your answer here\n",
        "!pip install scholarly\n",
        "import random\n",
        "from scholarly import scholarly\n",
        "import datetime\n",
        "def get_articles(keyword, max_results=1000):\n",
        "    articles = []\n",
        "    search_query = scholarly.search_pubs(keyword)\n",
        "\n",
        "    for i, result in enumerate(search_query):\n",
        "        if i >= max_results:\n",
        "            break\n",
        "        pub_date = result.get('year', 0)\n",
        "        if pub_date and 2014 <= int(pub_date) <= 2024:\n",
        "            articles.append({\n",
        "                'title': result.get(\"bib\").get('title', ''),\n",
        "                'authors': result.get(\"bib\").get('author', ''),\n",
        "                'year': pub_date,\n",
        "                'url': result.get(\"bib\").get('url', ''),\n",
        "            })\n",
        "\n",
        "    return articles\n",
        "\n",
        "keyword = \"XYZ\"\n",
        "articles = get_articles(keyword, max_results=1000)\n",
        "\n",
        "for article in articles:\n",
        "    print(article)"
      ],
      "metadata": {
        "id": "EjfRNBXKdGEN"
      },
      "execution_count": null,
      "outputs": []
    },
    {
      "cell_type": "markdown",
      "metadata": {
        "id": "jJDe71iLB616"
      },
      "source": [
        "## Question 4A (10 Points)\n",
        "Develop Python code to collect data from social media platforms like Reddit, Instagram, Twitter (formerly known as X), Facebook, or any other. Use hashtags, keywords, usernames, or user IDs to gather the data.\n",
        "\n",
        "\n",
        "\n",
        "Ensure that the collected data has more than four columns.\n"
      ]
    },
    {
      "cell_type": "code",
      "source": [],
      "metadata": {
        "id": "Lly4oidAd4YV"
      },
      "execution_count": null,
      "outputs": []
    },
    {
      "cell_type": "markdown",
      "metadata": {
        "id": "55W9AMdXCSpV"
      },
      "source": [
        "## Question 4B (10 Points)\n",
        "If you encounter challenges with Question-4 web scraping using Python, employ any online tools such as ParseHub or Octoparse for data extraction. Introduce the selected tool, outline the steps for web scraping, and showcase the final output in formats like CSV or Excel.\n",
        "\n",
        "\n",
        "\n",
        "Upload a document (Word or PDF File) in any shared storage (preferably UNT OneDrive) and add the publicly accessible link in the below code cell.\n",
        "\n",
        "Please only choose one option for question 4. If you do both options, we will grade only the first one"
      ]
    },
    {
      "cell_type": "code",
      "execution_count": null,
      "metadata": {
        "id": "I57NXsauCec2"
      },
      "outputs": [],
      "source": [
        "# write your answer here\n",
        "import tweepy\n",
        "\n",
        "# Set up your Twitter API credentials\n",
        "consumer_key = \"qVv22GpZRUrmAPS2HFp01C1T7\"\n",
        "consumer_secret = \"vrOmHrB9UoVkQtkApd1WvYlC3YkCnFnHYeTVvGGnrIAvkWHPJQ\"\n",
        "access_token = \"1757945092827123712-me3cD1cRmx27YBYmh8t9IDBK23Xc5c\"\n",
        "access_token_secret = \"3w7qwPTcoBGL3j0OEYSl9g3h6b0BMAfrEUbowg5Y5PQnX\"\n",
        "\n",
        "# Authenticate with Twitter API\n",
        "auth = tweepy.OAuthHandler(consumer_key, consumer_secret)\n",
        "auth.set_access_token(access_token, access_token_secret)\n",
        "api = tweepy.API(auth, wait_on_rate_limit=True)\n",
        "\n",
        "def collect_tweets(keyword, count=10):\n",
        "    tweets = []\n",
        "    for tweet in tweepy.Cursor(api.search_tweets, q=keyword, count=count, lang=\"en\", tweet_mode=\"extended\").items(count):\n",
        "        tweets.append({\n",
        "            \"Text\": tweet.full_text,\n",
        "            \"User\": tweet.user.screen_name,\n",
        "            \"Timestamp\": tweet.created_at,\n",
        "            \"Retweets\": tweet.retweet_count,\n",
        "        })\n",
        "    return tweets\n",
        "\n",
        "# Example usage\n",
        "keyword = \"space\"\n",
        "count = 25\n",
        "tweets_data = collect_tweets(keyword, count)\n",
        "\n",
        "# Display the collected data\n",
        "for tweet_data in tweets_data:\n",
        "    print(\"Text:\", tweet_data[\"Text\"])\n",
        "    print(\"User:\", tweet_data[\"User\"])\n",
        "    print(\"Timestamp:\", tweet_data[\"Timestamp\"])\n",
        "    print(\"Retweets:\", tweet_data[\"Retweets\"])\n",
        "    print(\"=\" * 50)\n"
      ]
    },
    {
      "cell_type": "markdown",
      "source": [
        "# Mandatory Question"
      ],
      "metadata": {
        "id": "sZOhks1dXWEe"
      }
    },
    {
      "cell_type": "markdown",
      "source": [
        "**Important: Reflective Feedback on Web Scraping and Data Collection**\n",
        "\n",
        "\n",
        "\n",
        "Please share your thoughts and feedback on the web scraping and data collection exercises you have completed in this assignment. Consider the following points in your response:\n",
        "\n",
        "\n",
        "\n",
        "Learning Experience: Describe your overall learning experience in working on web scraping tasks. What were the key concepts or techniques you found most beneficial in understanding the process of extracting data from various online sources?\n",
        "\n",
        "\n",
        "\n",
        "Challenges Encountered: Were there specific difficulties in collecting data from certain websites, and how did you overcome them? If you opted for the non-coding option, share your experience with the chosen tool.\n",
        "\n",
        "\n",
        "\n",
        "Relevance to Your Field of Study: How might the ability to gather and analyze data from online sources enhance your work or research?\n",
        "\n",
        "**(no grading of your submission if this question is left unanswered)**"
      ],
      "metadata": {
        "id": "eqmHVEwaWhbV"
      }
    },
    {
      "cell_type": "code",
      "source": [
        "'''\n",
        "Write your response here.\n",
        "Data collection is one of the hardest step as we need to collect the data from areas the data which we collect wont be in similar way we need to do the data cleaning and then we need to process the data which is a hard step if the data is not correct we wont get the correct output\n",
        "While working on api sometimes we will get the aunthentication issues. Sometimes we can't locate the requested resource from the API provider.\n",
        "'''"
      ],
      "metadata": {
        "id": "akAVJn9YBTQT",
        "colab": {
          "base_uri": "https://localhost:8080/",
          "height": 122
        },
        "outputId": "1a21cac0-79e4-437e-c18c-f99766307da9"
      },
      "execution_count": 1,
      "outputs": [
        {
          "output_type": "execute_result",
          "data": {
            "text/plain": [
              "\"\\nWrite your response here.\\nData collection is one of the hardest step as we need to collect the data from areas the data which we collect wont be in similar way we need to do the data cleaning and then we need to process the data which is a hard step if the data is not correct we wont get the correct output\\nWhile working on api sometimes we will get the aunthentication issues. Sometimes we can't locate the requested resource from the API provider.\\n\""
            ],
            "application/vnd.google.colaboratory.intrinsic+json": {
              "type": "string"
            }
          },
          "metadata": {},
          "execution_count": 1
        }
      ]
    }
  ],
  "metadata": {
    "colab": {
      "provenance": [],
      "collapsed_sections": [
        "FBKvD6O_TY6e",
        "E9RqrlwdTfvl",
        "03jb4GZsBkBS",
        "jJDe71iLB616",
        "55W9AMdXCSpV",
        "4ulBZ6yhCi9F",
        "6SmvS7nSfbj8",
        "sZOhks1dXWEe"
      ],
      "toc_visible": true,
      "include_colab_link": true
    },
    "kernelspec": {
      "display_name": "Python 3 (ipykernel)",
      "language": "python",
      "name": "python3"
    },
    "language_info": {
      "codemirror_mode": {
        "name": "ipython",
        "version": 3
      },
      "file_extension": ".py",
      "mimetype": "text/x-python",
      "name": "python",
      "nbconvert_exporter": "python",
      "pygments_lexer": "ipython3",
      "version": "3.9.12"
    }
  },
  "nbformat": 4,
  "nbformat_minor": 0
}