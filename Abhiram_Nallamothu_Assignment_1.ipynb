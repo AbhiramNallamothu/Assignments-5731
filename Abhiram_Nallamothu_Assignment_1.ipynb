{
  "cells": [
    {
      "cell_type": "markdown",
      "metadata": {
        "id": "view-in-github"
      },
      "source": [
        "<a href=\"https://colab.research.google.com/github/unt-iialab/INFO5731_Spring2020/blob/master/Assignments/INFO5731_Assignment_One.ipynb\" target=\"_parent\"><img src=\"https://colab.research.google.com/assets/colab-badge.svg\" alt=\"Open In Colab\"/></a>"
      ]
    },
    {
      "cell_type": "markdown",
      "metadata": {
        "id": "Ryk8D1Q4Wsrp"
      },
      "source": [
        "# **INFO5731 Assignment One**"
      ]
    },
    {
      "cell_type": "markdown",
      "source": [
        "This assignment includes range of programming tasks and data analysis exercises, aiming to enhance your Python skills and proficiency in string manipulation, numerical computations, and data science. Follow the instructions carefully and design well-structured Python programs to address each question.\n",
        "\n",
        "Late Submission will have a penalty of 10% reduction for each day after the deadline."
      ],
      "metadata": {
        "id": "qcP6re2g5A5r"
      }
    },
    {
      "cell_type": "markdown",
      "metadata": {
        "id": "JkzR8cFAyGik"
      },
      "source": [
        "# Question 1 (10 points).\n",
        "\n",
        "The formula that describes the volume V of a hemisphere with radius r is the following:\n",
        "\n",
        "$ V=\\frac{2}{3}\\ast\\ \\pi\\ast\\ r^3 $\n",
        "\n",
        "Write a program to calculate the value of V when r is in the range of even numbers from 1-20. Output the result in the following format:\n",
        "\n",
        "\tr\tV\n",
        "\t2\t…\n",
        "\t4\t…\n",
        "\t6\t…\n",
        "\t.\n",
        "\t.\n",
        "\t.\n",
        "\t20\t…\n"
      ]
    },
    {
      "cell_type": "code",
      "execution_count": null,
      "metadata": {
        "id": "jDyTKYs-yGit",
        "colab": {
          "base_uri": "https://localhost:8080/"
        },
        "outputId": "b814ec75-11fb-4164-f157-2ca40d7dc154"
      },
      "outputs": [
        {
          "output_type": "stream",
          "name": "stdout",
          "text": [
            "𝑉 = 2/3 * 𝜋 * 𝑟^3\n",
            " r = 2, V = 16.755160819145562\n",
            " r = 4, V = 134.0412865531645\n",
            " r = 6, V = 452.38934211693015\n",
            " r = 8, V = 1072.330292425316\n",
            " r = 10, V = 2094.3951023931954\n",
            " r = 12, V = 3619.114736935441\n",
            " r = 14, V = 5747.0201609669275\n",
            " r = 16, V = 8578.642339402528\n",
            " r = 18, V = 12214.512237157114\n",
            " r = 20, V = 16755.160819145563\n"
          ]
        }
      ],
      "source": [
        "# Your code here\n",
        "\n",
        "\n",
        "import math\n",
        "\n",
        "# Define\n",
        "def calculate_volume(radius):\n",
        "    return (2/3) * math.pi * (radius**3)\n",
        "\n",
        "# Print the formula\n",
        "print(\"𝑉 = 2/3 * 𝜋 * 𝑟^3\")\n",
        "\n",
        "# Calculate and print the volume for even values of radius in the range 1-20\n",
        "for radius in range(2, 21, 2):  # Range of even numbers from 2 to 20\n",
        "    volume = calculate_volume(radius)\n",
        "    print(f\" r = {radius}, V = {volume}\")\n",
        "\n",
        "\n"
      ]
    },
    {
      "cell_type": "markdown",
      "metadata": {
        "id": "90_NR8c5XGWc"
      },
      "source": [
        "# Question 2 (20 points)\n",
        "\n",
        "(a) Write a Python program to generate a sequence of 12 random numbers falling within the range of 50 to 150.\n",
        "\n",
        "(b) Arrange the generated numbers in ascending order. Display the sorted list.\n",
        "\n",
        "(c) Extend the program to arrange the numbers in descending order as well. Present the sorted list accordingly.\n",
        "\n",
        "(d) Compute and output the average of the entire group of generated numbers.\n",
        "\n",
        "(e) Enhance the program to calculate and display the average of the first 6 numbers from both the ascending and descending sorted lists."
      ]
    },
    {
      "cell_type": "markdown",
      "source": [
        "(a) Write a Python program to generate a sequence of 12 random numbers falling within the range of 50 to 150."
      ],
      "metadata": {
        "id": "RMDtedi0QUDR"
      }
    },
    {
      "cell_type": "code",
      "source": [
        "# Write code for each of the sub parts with proper comments.\n",
        "import random\n",
        "randnum_list=[]\n",
        "# Generate random numbers and append to the list\n",
        "for i in range(12):\n",
        "  randnum_list.append(random.randrange(50,150))\n",
        "print(randnum_list)\n",
        "\n"
      ],
      "metadata": {
        "colab": {
          "base_uri": "https://localhost:8080/"
        },
        "id": "5HHXZ1L8QRYb",
        "outputId": "829152b9-2fd9-48e4-c0e7-b40f1cef8326"
      },
      "execution_count": null,
      "outputs": [
        {
          "output_type": "stream",
          "name": "stdout",
          "text": [
            "[97, 121, 63, 96, 82, 111, 137, 124, 95, 116, 100, 99]\n"
          ]
        }
      ]
    },
    {
      "cell_type": "markdown",
      "source": [
        "(b) Arrange the generated numbers in ascending order. Display the sorted list."
      ],
      "metadata": {
        "id": "VBJJN3LGQY0i"
      }
    },
    {
      "cell_type": "code",
      "source": [
        "# Sort the list in ascending order\n",
        "sorted_numbers = sorted(randnum_list)\n",
        "\n",
        "# Display the sorted list\n",
        "print(\"Sorted List:\", sorted_numbers)"
      ],
      "metadata": {
        "colab": {
          "base_uri": "https://localhost:8080/"
        },
        "id": "rujdYjvqI0Tn",
        "outputId": "d095f9eb-0186-4e5b-c6d4-c8e5c56cbfa8"
      },
      "execution_count": null,
      "outputs": [
        {
          "output_type": "stream",
          "name": "stdout",
          "text": [
            "Sorted List: [63, 82, 95, 96, 97, 99, 100, 111, 116, 121, 124, 137]\n"
          ]
        }
      ]
    },
    {
      "cell_type": "markdown",
      "source": [
        "(c) Extend the program to arrange the numbers in descending order as well. Present the sorted list accordingly.\n"
      ],
      "metadata": {
        "id": "IUmWLFWKI4YV"
      }
    },
    {
      "cell_type": "code",
      "source": [
        "sorted_descending = sorted(randnum_list, reverse=True)\n",
        "print(\"Descending Order:\", sorted_descending)"
      ],
      "metadata": {
        "colab": {
          "base_uri": "https://localhost:8080/"
        },
        "id": "2IX7rdQZJDev",
        "outputId": "d67d0432-dc4d-43ae-849f-2b1416993394"
      },
      "execution_count": null,
      "outputs": [
        {
          "output_type": "stream",
          "name": "stdout",
          "text": [
            "Descending Order: [137, 124, 121, 116, 111, 100, 99, 97, 96, 95, 82, 63]\n"
          ]
        }
      ]
    },
    {
      "cell_type": "markdown",
      "source": [
        "(d) Compute and output the average of the entire group of generated numbers."
      ],
      "metadata": {
        "id": "qkkFShqUJhm-"
      }
    },
    {
      "cell_type": "code",
      "source": [
        "# Compute and output the average of the entire group\n",
        "average = sum(randnum_list) / len(randnum_list)\n",
        "print(\"Average:\", average)"
      ],
      "metadata": {
        "colab": {
          "base_uri": "https://localhost:8080/"
        },
        "id": "BbsjMn86JqJi",
        "outputId": "2594ead5-9805-4552-a2a5-038a6ce7497d"
      },
      "execution_count": null,
      "outputs": [
        {
          "output_type": "stream",
          "name": "stdout",
          "text": [
            "Average: 103.41666666666667\n"
          ]
        }
      ]
    },
    {
      "cell_type": "markdown",
      "source": [
        "(e) Enhance the program to calculate and display the average of the first 6 numbers from both the ascending and descending sorted lists"
      ],
      "metadata": {
        "id": "9m2dVQhJKBIP"
      }
    },
    {
      "cell_type": "code",
      "source": [
        "# Compute and output the average of the first 6 numbers from both sorted lists\n",
        "average_first_6_ascending = sum(randnum_list[:6]) / 6\n",
        "average_first_6_descending = sum(sorted_descending[:6]) / 6\n",
        "\n",
        "print(\"Average of First 6 Numbers (Ascending):\", average_first_6_ascending)\n",
        "print(\"Average of First 6 Numbers (Descending):\", average_first_6_descending)"
      ],
      "metadata": {
        "colab": {
          "base_uri": "https://localhost:8080/"
        },
        "id": "ryxweVVAKAEa",
        "outputId": "49466ba6-33b2-4e23-fb04-f1213505d846"
      },
      "execution_count": null,
      "outputs": [
        {
          "output_type": "stream",
          "name": "stdout",
          "text": [
            "Average of First 6 Numbers (Ascending): 95.0\n",
            "Average of First 6 Numbers (Descending): 118.16666666666667\n"
          ]
        }
      ]
    },
    {
      "cell_type": "markdown",
      "metadata": {
        "id": "1F_PZdH9Sh49"
      },
      "source": [
        "# Question 3 (20 points).\n",
        "\n",
        "Create a Python program that encompasses various string manipulation task:\n",
        "\n",
        "(a) Prompt the user to input two sentences.\n",
        "\n",
        "(b) Transform each sentence into a list, where each element corresponds to a word in the sentence. For example, if the sentences are \"Hello, how are you doing today?\" and \"This is an example sentence for the program!\"\n",
        "\n",
        "The program should output:\n",
        "['Hello', ',', 'how', 'are', 'you', 'doing', 'today', '?', 'This', 'is', 'an', 'example', 'sentence', 'for', 'the', 'program', '!']\n",
        "\n",
        "(c) Compare the two sentences. Print out a list of words that occur in both sentences.\n",
        "\n",
        "(d) Remove any punctuation from the sentence and print the sanitized sentences. It should remove at least the following characters, but it can remove more: period(“.”), comma (“,”), semicolon (“;”), and colon (“:”).\n",
        "\n",
        "(e) Count the number of vowels in each of the sentences. Print out each vowel and the occurrences  in the each of the two sentences separately, such as:\n",
        "\n",
        "Sentence1: a:2, e:2, i:0, etc.\n",
        "Sentence2: a:1, e:2, i:2, etc.\n",
        "\n",
        "Design a well-structured Python program to execute these tasks efficiently."
      ]
    },
    {
      "cell_type": "code",
      "execution_count": null,
      "metadata": {
        "id": "Y0oOSlsOS0cq",
        "colab": {
          "base_uri": "https://localhost:8080/"
        },
        "outputId": "64aa7765-01b8-4803-c283-02b2b56c838b"
      },
      "outputs": [
        {
          "name": "stdout",
          "output_type": "stream",
          "text": [
            "hello world\n",
            "is this the world of python?\n"
          ]
        }
      ],
      "source": [
        "# Your code here\n",
        "#a\n",
        "sentence1 = input()\n",
        "sentence2=input()\n",
        "#b\n",
        "#lis1=sentence1.split()\n",
        "#lis2=sentence2.split()\n",
        "\n",
        "\n"
      ]
    },
    {
      "cell_type": "code",
      "source": [
        "\n",
        "import nltk\n",
        "nltk.download('punkt')\n",
        "# Transform each sentence into a list\n",
        "lis1 = nltk.word_tokenize(sentence1)\n",
        "lis2 = nltk.word_tokenize(sentence2)\n",
        "\n",
        "# Display the lists\n",
        "print(\"List for Sentence 1:\", lis1)\n",
        "print(\"List for Sentence 2:\", lis2)\n",
        "print(lis1+lis2)"
      ],
      "metadata": {
        "colab": {
          "base_uri": "https://localhost:8080/"
        },
        "id": "JM6c-lcrLs-U",
        "outputId": "e74fbd1c-c6b4-40b9-f2c5-05ca1043eeea"
      },
      "execution_count": null,
      "outputs": [
        {
          "output_type": "stream",
          "name": "stdout",
          "text": [
            "List for Sentence 1: ['hello', 'world']\n",
            "List for Sentence 2: ['is', 'this', 'the', 'world', 'of', 'python', '?']\n",
            "['hello', 'world', 'is', 'this', 'the', 'world', 'of', 'python', '?']\n"
          ]
        },
        {
          "output_type": "stream",
          "name": "stderr",
          "text": [
            "[nltk_data] Downloading package punkt to /root/nltk_data...\n",
            "[nltk_data]   Package punkt is already up-to-date!\n"
          ]
        }
      ]
    },
    {
      "cell_type": "code",
      "source": [
        "#c\n",
        "print(list(set(lis1).intersection(set(lis2))))"
      ],
      "metadata": {
        "colab": {
          "base_uri": "https://localhost:8080/"
        },
        "id": "i2ILPVAVeADY",
        "outputId": "ce647c05-27ae-4776-c25f-2f84d1e25704"
      },
      "execution_count": null,
      "outputs": [
        {
          "output_type": "stream",
          "name": "stdout",
          "text": [
            "['world']\n"
          ]
        }
      ]
    },
    {
      "cell_type": "code",
      "source": [
        "#d\n",
        "import string\n",
        "def removepun(sentence):\n",
        "  for char in string.punctuation:\n",
        "    sentence = sentence.replace(char, '')\n",
        "  return sentence\n",
        "sentence1=removepun(sentence1)\n",
        "sentence2=removepun(sentence2)\n",
        "print(sentence1)\n",
        "print(sentence2)"
      ],
      "metadata": {
        "colab": {
          "base_uri": "https://localhost:8080/"
        },
        "id": "aoIxFW1Bi-Ar",
        "outputId": "5cf1a805-721e-457d-cbf3-dcd698639a6f"
      },
      "execution_count": null,
      "outputs": [
        {
          "output_type": "stream",
          "name": "stdout",
          "text": [
            "hello world\n",
            "is this the world of python\n"
          ]
        }
      ]
    },
    {
      "cell_type": "code",
      "source": [
        "#e\n",
        "def voweldictionary(sen):\n",
        "  vowels = \"aeiou\"\n",
        "  vowel_dict = {vowel: sen.lower().count(vowel) for vowel in vowels}\n",
        "  return vowel_dict\n",
        "print(voweldictionary(sentence1))\n",
        "print(voweldictionary(sentence2))\n",
        "\n"
      ],
      "metadata": {
        "colab": {
          "base_uri": "https://localhost:8080/"
        },
        "id": "iD2gq-U3jzLd",
        "outputId": "5a665534-a95d-45a2-c802-23f59291e276"
      },
      "execution_count": null,
      "outputs": [
        {
          "output_type": "stream",
          "name": "stdout",
          "text": [
            "{'a': 0, 'e': 1, 'i': 0, 'o': 2, 'u': 0}\n",
            "{'a': 0, 'e': 1, 'i': 2, 'o': 3, 'u': 0}\n"
          ]
        }
      ]
    },
    {
      "cell_type": "markdown",
      "source": [
        "# Question 4 (20 Points)"
      ],
      "metadata": {
        "id": "OP4-5qxAtInv"
      }
    },
    {
      "cell_type": "markdown",
      "source": [
        "Design and implement a simple command-line calculator program. The program should handle both integers and floating-point numbers.\n",
        "\n",
        "(a) Write program that takes a mathematical expression as input and evaluates it. The program should support addition, subtraction, multiplication, and division.\n",
        "\n",
        "(b) Extend the calculator to handle parentheses in mathematical expressions. Implement the necessary logic to evaluate expressions with nested parentheses.\n",
        "\n",
        "(c) Enhance your calculator to include additional mathematical operations such as exponentiation, square root, and modulus.\n",
        "\n",
        "(d) Implement error handling in the calculator program. Handle cases such as division by zero and invalid input expressions. Provide meaningful error messages.\n",
        "\n",
        "(e) Implement a command to exit the calculator."
      ],
      "metadata": {
        "id": "uzN4_hDptK9U"
      }
    },
    {
      "cell_type": "code",
      "source": [
        "# Your code here\n",
        "while(True):\n",
        "  expr = input()\n",
        "  if(expr.lower()==\"exit\"):\n",
        "    break\n",
        "  try:\n",
        "    result = eval(expr)\n",
        "  except ZeroDivisionError:\n",
        "    print( \"Error: Division by zero\")\n",
        "  except SyntaxError:\n",
        "        print( \"Error: Invalid input expression\")\n",
        "  print(result)\n",
        "\n",
        "\n"
      ],
      "metadata": {
        "id": "8nQnVxjJuYtu",
        "colab": {
          "base_uri": "https://localhost:8080/"
        },
        "outputId": "1fd7b047-02d1-4194-b5b7-fda29e9d6acc"
      },
      "execution_count": 1,
      "outputs": [
        {
          "name": "stdout",
          "output_type": "stream",
          "text": [
            "1+6\n",
            "7\n",
            "3**2\n",
            "9\n",
            "1+68*32-45\n",
            "2132\n",
            "1%0\n",
            "Error: Division by zero\n",
            "2132\n",
            "exit\n"
          ]
        }
      ]
    },
    {
      "cell_type": "markdown",
      "metadata": {
        "id": "z3tBE7E-Xn5X"
      },
      "source": [
        "# Question 5 (30 points).\n",
        "\n",
        "In the field of Data Science, data is often formatted as a comma-delimited (CSV) file, where each line in a file corresponds to a field's value. Refer to Chapter 9 (p. 106) for more information on comma-delimited files.\n",
        "\n",
        "To answer this question, you will need to download the file [Assignment1_denton_housing.csv](https://raw.githubusercontent.com/unt-iialab/info5731-spring2022/main/assignments/Assignment1_denton_housing.csv) included with this assignment. The file contains statistics about housing in the city of Denton from 2008 to 2014. Write a program to implement the following questions.\n",
        "\n",
        "(a) (5 pts) Calculate the difference in the number of Occupied Housing Units from year to year and print it. The difference must be calculated for the consecutive years such as 2008-2009, 2009-2010 etc. Finally, print the values in the ascending order.\n",
        "\n",
        "(b) (5 pts) For all the years, calculate the percentage of housing units which are vacant an occupied. Print the results in the following format:\n",
        "\n",
        "Year Vacant Housing Units Occupied Housing Units\n",
        "\n",
        "    2008  30%   70%                          \n",
        "\t2009 ----- -----\n",
        "\t2010 ----- -----\n",
        "    2011 ----- -----\n",
        "\t2012 ----- -----\n",
        "    2013 ----- -----\n",
        "\t2014 ----- -----\n",
        "  \n",
        "  \n",
        "\n",
        "(c) (10 pts) Calculate and print the valued and years in which the highest number of housing units were vacant and occupied. Print the results in the following format:  \n",
        "\n",
        "                              Year\tValue\n",
        "\tVacant Housing Units\t  -----   -----\n",
        "\tOccupied Housing Units\t-----   -----\n",
        "\n",
        "(d) (10 pts) Calculate the harmonic mean of the total housing units and print it out. You can find the information about harmonic mean here: https://ncalculators.com/statistics/harmonic-mean-calculator.htm"
      ]
    },
    {
      "cell_type": "code",
      "execution_count": null,
      "metadata": {
        "id": "lqGYuHBhcsRH",
        "colab": {
          "base_uri": "https://localhost:8080/"
        },
        "outputId": "02e4239f-db39-4c99-e81c-0c6b47fd9f03"
      },
      "outputs": [
        {
          "output_type": "stream",
          "name": "stdout",
          "text": [
            "    year             title_field  value\n",
            "2   2014  Occupied Housing Units  46295\n",
            "5   2013  Occupied Housing Units  43673\n",
            "8   2012  Occupied Housing Units  42108\n",
            "11  2011  Occupied Housing Units  40704\n",
            "14  2010  Occupied Housing Units  41007\n",
            "17  2009  Occupied Housing Units  35916\n",
            "20  2008  Occupied Housing Units  36711\n",
            "{2014: 1, 2013: 1, 2012: 1, 2011: 1, 2010: 1, 2009: 1, 2008: 1}\n"
          ]
        }
      ],
      "source": [
        " # Your code here\n",
        "#a\n",
        "import pandas as pd\n",
        "# Read the CSV file into a DataFrame\n",
        "df = pd.read_csv('Assignment1_denton_housing (1).csv')\n",
        "# Sort the DataFrame based on the 'year' column\n",
        "df_sort = df.sort_values('year')\n",
        "# Filter rows where 'title_field' is 'Occupied Housing Units'\n",
        "df_sorted=df[df['title_field'] == 'Occupied Housing Units']\n",
        "print(df_sorted)\n",
        "# Create a dictionary to store the count of occupied housing units for each year\n",
        "dicti={}\n",
        "for i in range(len(df_sorted)):\n",
        "  val=df_sorted.iloc[i]['year']\n",
        "  if val in dicti:\n",
        "    dicti[val]+=1\n",
        "  else:\n",
        "    dicti[val]=1\n",
        "print(dicti)\n",
        "# Calculate the absolute difference in the number of occupied housing units between consecutive years\n",
        "lis=list(dicti.values())\n",
        "val=[]\n",
        "for i in range(1,len(lis)):\n",
        "  val.append(abs(lis[i]-lis[i-1]))\n",
        "\n",
        "\n"
      ]
    },
    {
      "cell_type": "code",
      "source": [
        "#difference for consecutive years\n",
        "print(sorted(val))"
      ],
      "metadata": {
        "colab": {
          "base_uri": "https://localhost:8080/"
        },
        "id": "gJ6-zgvUZbE_",
        "outputId": "5ad25db4-a9bb-4644-acfd-51f0bd126ac5"
      },
      "execution_count": null,
      "outputs": [
        {
          "output_type": "stream",
          "name": "stdout",
          "text": [
            "[0, 0, 0, 0, 0, 0]\n"
          ]
        }
      ]
    },
    {
      "cell_type": "code",
      "source": [
        "#b\n",
        "# Filter rows where 'title_field' is 'Occupied Housing Units'\n",
        "df_occupied=df[df['title_field'] == 'Occupied Housing Units']\n",
        "df_vacant=df[df['title_field'] == 'Vacant Housing Units']\n",
        "# Loop through the DataFrame\n",
        "for i in range(len(df_occupied)):\n",
        "\n",
        "  occupiedcount = df_occupied.iloc[i]['value']\n",
        "  vacantcount=df_vacant.iloc[i]['value']\n",
        "   # Calculate total count\n",
        "  total= occupiedcount+vacantcount\n",
        "   # Calculate percentages\n",
        "  operc=(occupiedcount / total) * 100\n",
        "  vperc=(vacantcount / total) * 100\n",
        "   # Print the results for each year\n",
        "  print(str(df_occupied.iloc[i]['year']),end=\"    \")\n",
        "  print(str(round(vperc))+\"%\"+\"    \"+str(round(operc))+\"%\")\n"
      ],
      "metadata": {
        "colab": {
          "base_uri": "https://localhost:8080/"
        },
        "id": "NRH5RtblabB-",
        "outputId": "951f3963-b22d-436a-d49d-980bf5b0ca6a"
      },
      "execution_count": null,
      "outputs": [
        {
          "output_type": "stream",
          "name": "stdout",
          "text": [
            "2014    6%    94%\n",
            "2013    9%    91%\n",
            "2012    7%    93%\n",
            "2011    9%    91%\n",
            "2010    8%    92%\n",
            "2009    9%    91%\n",
            "2008    11%    89%\n"
          ]
        }
      ]
    },
    {
      "cell_type": "code",
      "source": [
        "#c\n",
        "# Loop through the DataFrame\n",
        "for i in range(len(df_occupied)):\n",
        "  print(\"Vacant Housing Units      \"+str(df_vacant.iloc[i]['year'])+\"     \"+str(df_vacant.iloc[i]['value']))\n",
        "  print(\"Occupied Housing Units    \"+str(df_occupied.iloc[i]['year'])+\"     \"+str(df_occupied.iloc[i]['value']))"
      ],
      "metadata": {
        "colab": {
          "base_uri": "https://localhost:8080/"
        },
        "id": "zHx-mvTqc8P0",
        "outputId": "4183c9c0-6fc5-4c10-8dc6-b12b8e992ef3"
      },
      "execution_count": null,
      "outputs": [
        {
          "output_type": "stream",
          "name": "stdout",
          "text": [
            "Vacant Housing Units      2014     2814\n",
            "Occupied Housing Units    2014     46295\n",
            "Vacant Housing Units      2013     4215\n",
            "Occupied Housing Units    2013     43673\n",
            "Vacant Housing Units      2012     3013\n",
            "Occupied Housing Units    2012     42108\n",
            "Vacant Housing Units      2011     4213\n",
            "Occupied Housing Units    2011     40704\n",
            "Vacant Housing Units      2010     3635\n",
            "Occupied Housing Units    2010     41007\n",
            "Vacant Housing Units      2009     3583\n",
            "Occupied Housing Units    2009     35916\n",
            "Vacant Housing Units      2008     4483\n",
            "Occupied Housing Units    2008     36711\n"
          ]
        }
      ]
    },
    {
      "cell_type": "code",
      "source": [
        "#d\n",
        "# Filter rows where 'title_field' is 'Total Housing Units\n",
        "total_data=df[df['title_field'] == 'Total Housing Units']\n",
        "# Group by 'year' and sum the 'value' column for each year\n",
        "data = total_data.groupby('year')['value'].sum()\n",
        "# Print the total housing units for each year\n",
        "print(data)\n",
        "# Calculate the harmonic mean\n",
        "harmonic_mean = len(data) / sum(1 / data)\n",
        "print(harmonic_mean)"
      ],
      "metadata": {
        "colab": {
          "base_uri": "https://localhost:8080/"
        },
        "id": "_SPQvUzxdyoz",
        "outputId": "4ed33e49-2fdd-43fb-f42e-7cb9066ed200"
      },
      "execution_count": null,
      "outputs": [
        {
          "output_type": "stream",
          "name": "stdout",
          "text": [
            "year\n",
            "2008    41194\n",
            "2009    39499\n",
            "2010    44642\n",
            "2011    44917\n",
            "2012    45121\n",
            "2013    47888\n",
            "2014    49109\n",
            "Name: value, dtype: int64\n",
            "44398.28543969185\n"
          ]
        }
      ]
    },
    {
      "cell_type": "markdown",
      "source": [
        "# Mandatory Question\n",
        "\n",
        "Provide your thoughts on the assignment. What did you find challenging, and what aspects did you enjoy? Your opinion on the provided time to complete the assignment. Share any suggestions for improvement. Your feedback will be valuable for enhancing the learning experience."
      ],
      "metadata": {
        "id": "q8BFCvWp32cf"
      }
    },
    {
      "cell_type": "markdown",
      "source": [
        "In this assignment i found bit difficult in answering last question compared to all question as it is related o NLP as i need more time in conducting background study for that concept and the tokenization concept is completely new to me so I had to go through few research papers to understand it in a better way. when i was searching to work on the assignment, i found few inbulit methods which helped to solve questions bit faster.\n"
      ],
      "metadata": {
        "id": "pKStP_a4xfdM"
      }
    }
  ],
  "metadata": {
    "colab": {
      "provenance": []
    },
    "kernelspec": {
      "display_name": "Python 3 (ipykernel)",
      "language": "python",
      "name": "python3"
    },
    "language_info": {
      "codemirror_mode": {
        "name": "ipython",
        "version": 3
      },
      "file_extension": ".py",
      "mimetype": "text/x-python",
      "name": "python",
      "nbconvert_exporter": "python",
      "pygments_lexer": "ipython3",
      "version": "3.9.12"
    }
  },
  "nbformat": 4,
  "nbformat_minor": 0
}